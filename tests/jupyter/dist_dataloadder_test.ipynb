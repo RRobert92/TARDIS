{
 "cells": [
  {
   "cell_type": "code",
   "execution_count": 1,
   "metadata": {
    "ExecuteTime": {
     "end_time": "2023-04-18T14:20:55.129016Z",
     "start_time": "2023-04-18T14:20:55.016184Z"
    },
    "collapsed": true
   },
   "outputs": [],
   "source": [
    "import tifffile.tifffile as tiff\n",
    "\n",
    "image = tiff.imread('../../../../../Downloads/ts11.mrc_26.80Apx_semantic.tif')"
   ]
  },
  {
   "cell_type": "code",
   "execution_count": 2,
   "metadata": {
    "ExecuteTime": {
     "end_time": "2023-04-18T14:21:00.645421Z",
     "start_time": "2023-04-18T14:20:55.130765Z"
    },
    "collapsed": false
   },
   "outputs": [
    {
     "name": "stdout",
     "output_type": "stream",
     "text": [
      "[ 10   8  49  30  28  29  45  46  51  26   1  61   3   4  66  73  74  71\n",
      "  83  84  92  50  54  68  60  75  76  23  25  79  22  42  77  52  41  55\n",
      "  39  40  48  57  14  18  20  34  38  59  11  13   5 136 137  64 119 122\n",
      "  81  82 127 115 116 113  90  91  89 108 110  87 103  96  99 156 158 101\n",
      " 149 146 145 142 143 161 163 134 164 154 105 153 112 117 131  86 139 157\n",
      " 175 172 167 159 166 178 171 173 179 170 168 181 169 182 184 176]\n",
      "(185, 3)\n"
     ]
    }
   ],
   "source": [
    "from tardis_pytorch.dist_pytorch.utils.build_point_cloud import BuildPointCloud\n",
    "\n",
    "post_processes = BuildPointCloud()\n",
    "pc_hd, pc_ld = post_processes.build_point_cloud(\n",
    "                image=image, EDT=True, down_sampling=5,\n",
    "            )"
   ]
  },
  {
   "cell_type": "code",
   "execution_count": 3,
   "metadata": {
    "ExecuteTime": {
     "end_time": "2023-04-18T14:18:14.055115Z",
     "start_time": "2023-04-18T14:18:13.556346Z"
    },
    "collapsed": false
   },
   "outputs": [
    {
     "name": "stdout",
     "output_type": "stream",
     "text": [
      "Coord data must be 2D/3D with labels (2D/3D)\n"
     ]
    }
   ],
   "source": [
    "from tardis_pytorch.utils.visualize_pc import VisualizePointCloud\n",
    "VisualizePointCloud(pc_ld, False)"
   ]
  }
 ],
 "metadata": {
  "kernelspec": {
   "display_name": "Python 3",
   "language": "python",
   "name": "python3"
  },
  "language_info": {
   "codemirror_mode": {
    "name": "ipython",
    "version": 2
   },
   "file_extension": ".py",
   "mimetype": "text/x-python",
   "name": "python",
   "nbconvert_exporter": "python",
   "pygments_lexer": "ipython2",
   "version": "2.7.6"
  }
 },
 "nbformat": 4,
 "nbformat_minor": 0
}
