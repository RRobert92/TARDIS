{
 "cells": [
  {
   "cell_type": "code",
   "execution_count": 1,
   "metadata": {
    "ExecuteTime": {
     "end_time": "2023-04-18T14:20:55.129016Z",
     "start_time": "2023-04-18T14:20:55.016184Z"
    },
    "collapsed": true
   },
   "outputs": [],
   "source": [
    "import tifffile.tifffile as tiff\n",
    "\n",
    "image = tiff.imread('../../../../../Downloads/ts11.mrc_26.80Apx_semantic.tif')"
   ]
  },
  {
   "cell_type": "code",
   "execution_count": 2,
   "metadata": {
    "ExecuteTime": {
     "end_time": "2023-04-18T14:21:00.645421Z",
     "start_time": "2023-04-18T14:20:55.130765Z"
    },
    "collapsed": false
   },
   "outputs": [],
   "source": [
    "from tardis_pytorch.dist_pytorch.utils.build_point_cloud import BuildPointCloud\n",
    "\n",
    "post_processes = BuildPointCloud()\n",
    "pc_hd, pc_ld = post_processes.build_point_cloud(\n",
    "                image=image, EDT=True, down_sampling=5,\n",
    "            )"
   ]
  },
  {
   "cell_type": "code",
   "execution_count": 3,
   "metadata": {},
   "outputs": [
    {
     "name": "stdout",
     "output_type": "stream",
     "text": [
      "\u001b[1;33m[Open3D WARNING] GLFW Error: Cocoa: Failed to find service port for display\u001b[0;m\n"
     ]
    }
   ],
   "source": [
    "from tardis_pytorch.utils.visualize_pc import VisualizePointCloud\n",
    "VisualizePointCloud(pc_ld, False)"
   ]
  },
  {
   "cell_type": "code",
   "execution_count": 4,
   "metadata": {},
   "outputs": [],
   "source": [
    "from tardis_pytorch.dist_pytorch.datasets.patches import PatchDataSet\n",
    "patch_pc = PatchDataSet(\n",
    "                max_number_of_points=1000, graph=False\n",
    "            )\n",
    "coords_df, _, output_idx, _ = patch_pc.patched_dataset(\n",
    "                    coord=pc_ld\n",
    "                )"
   ]
  },
  {
   "cell_type": "code",
   "execution_count": 5,
   "metadata": {
    "pycharm": {
     "is_executing": true
    }
   },
   "outputs": [
    {
     "name": "stdout",
     "output_type": "stream",
     "text": [
      "Searching for weight file for dist_triang...\n"
     ]
    }
   ],
   "source": [
    "from tardis_pytorch.utils.predictor import Predictor\n",
    "\n",
    "graphs = []\n",
    "predict_dist = Predictor(\n",
    "                network=\"dist\",\n",
    "                subtype=\"triang\",\n",
    "                model_type=\"microtubules\",\n",
    "                device='mps',\n",
    "            )\n",
    "\n",
    "for id_dist, coord in enumerate(coords_df):\n",
    "    graph = predict_dist.predict(x=coord[None, :])\n",
    "    graphs.append(graph)"
   ]
  },
  {
   "cell_type": "code",
   "execution_count": 23,
   "metadata": {},
   "outputs": [],
   "source": [
    "pc_ld = pc_ld * 26.8\n",
    "pc_ld[:, 0] = pc_ld[:, 0]\n",
    "pc_ld[:, 1] = pc_ld[:, 1]\n",
    "pc_ld[:, 2] = pc_ld[:, 2]"
   ]
  },
  {
   "cell_type": "code",
   "execution_count": 26,
   "metadata": {},
   "outputs": [],
   "source": [
    "from tardis_pytorch.dist_pytorch.utils.segment_point_cloud import PropGreedyGraphCut\n",
    "\n",
    "\n",
    "GraphToSegment = PropGreedyGraphCut(\n",
    "                    threshold=0.5, smooth=True\n",
    "                )\n",
    "\n",
    "segments = GraphToSegment.patch_to_segment(\n",
    "                    graph=graphs, coord=pc_ld, idx=output_idx, prune=10\n",
    "                )"
   ]
  },
  {
   "cell_type": "code",
   "execution_count": 24,
   "metadata": {
    "ExecuteTime": {
     "end_time": "2023-04-18T14:18:14.055115Z",
     "start_time": "2023-04-18T14:18:13.556346Z"
    },
    "collapsed": false
   },
   "outputs": [
    {
     "name": "stdout",
     "output_type": "stream",
     "text": [
      "\u001b[1;33m[Open3D WARNING] GLFW Error: Cocoa: Failed to find service port for display\u001b[0;m\n"
     ]
    }
   ],
   "source": [
    "from tardis_pytorch.utils.visualize_pc import VisualizeFilaments\n",
    "import numpy as np\n",
    "VisualizeFilaments(segments)"
   ]
  },
  {
   "cell_type": "code",
   "execution_count": 27,
   "metadata": {
    "collapsed": false
   },
   "outputs": [
    {
     "name": "stdout",
     "output_type": "stream",
     "text": [
      "\u001b[1;33m[Open3D WARNING] GLFW Error: Cocoa: Failed to find service port for display\u001b[0;m\n"
     ]
    }
   ],
   "source": [
    "from tardis_pytorch.utils.spline_metric import FilterSpatialGraph\n",
    "filter_splines = FilterSpatialGraph(\n",
    "                    connect_seg_if_closer_then=2500,\n",
    "                    cylinder_radius=250,\n",
    "                    filter_short_segments=500,\n",
    "                )\n",
    "\n",
    "segments_filter = filter_splines(segments=segments)\n",
    "\n",
    "VisualizeFilaments(segments_filter)"
   ]
  }
 ],
 "metadata": {
  "kernelspec": {
   "display_name": "Python 3",
   "language": "python",
   "name": "python3"
  },
  "language_info": {
   "codemirror_mode": {
    "name": "ipython",
    "version": 3
   },
   "file_extension": ".py",
   "mimetype": "text/x-python",
   "name": "python",
   "nbconvert_exporter": "python",
   "pygments_lexer": "ipython3",
   "version": "3.10.10"
  }
 },
 "nbformat": 4,
 "nbformat_minor": 0
}
