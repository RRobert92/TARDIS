{
 "cells": [
  {
   "cell_type": "code",
   "execution_count": 1,
   "id": "initial_id",
   "metadata": {
    "ExecuteTime": {
     "end_time": "2024-07-28T20:12:23.386040Z",
     "start_time": "2024-07-28T20:12:19.612133Z"
    },
    "collapsed": true
   },
   "outputs": [],
   "source": [
    "from os.path import join\n",
    "import numpy as np\n",
    "from tardis_em.cnn.data_processing.draw_mask import draw_instances\n",
    "from tardis_em.utils.load_data import load_image\n",
    "import os \n",
    "\n",
    "dir_ = 'unet_4A'\n",
    "gt_list = [i.split('/')[0] for i in os.listdir('../../../test_data/mem_2d/GT') if i != '.DS_Store']\n",
    "gt_list = sorted(gt_list)\n",
    "logits_list = [i.split('/')[0] for i in os.listdir(f'../../../test_data/mem_2d/{dir_}') if i not in ['.DS_Store', 'prediction_log.txt']]\n",
    "logits_list = sorted(logits_list)\n",
    "\n",
    "logits = [load_image(join(f'../../../test_data/mem_2d/{dir_}', i), px_=False) for i in logits_list]\n",
    "gt = [load_image(join('../../../test_data/mem_2d/GT', i), px_=False) if not i.endswith('.csv')  else np.where(draw_instances(\n",
    "                    mask_size=logits[id_].shape,\n",
    "                    coordinate=np.genfromtxt(join('../../../test_data/mem_2d/GT', i), delimiter=',', skip_header=1),\n",
    "                    pixel_size=2.534,\n",
    "                    circle_size=40,\n",
    "                ) > 0, 1, 0) for id_, i in enumerate(gt_list)]\n"
   ]
  },
  {
   "cell_type": "code",
   "execution_count": 16,
   "id": "1947f354",
   "metadata": {},
   "outputs": [
    {
     "ename": "",
     "evalue": "",
     "output_type": "error",
     "traceback": [
      "\u001b[1;31mThe Kernel crashed while executing code in the current cell or a previous cell. \n",
      "\u001b[1;31mPlease review the code in the cell(s) to identify a possible cause of the failure. \n",
      "\u001b[1;31mClick <a href='https://aka.ms/vscodeJupyterKernelCrash'>here</a> for more info. \n",
      "\u001b[1;31mView Jupyter <a href='command:jupyter.viewOutput'>log</a> for further details."
     ]
    }
   ],
   "source": [
    "from sklearn.metrics import precision_score\n",
    "import sklearn\n",
    "logit_th = np.where(logits[0] > 0.5, 1, 0).astype(np.int8).flatten()\n",
    "target = np.where(gt[0] > 0, 1, 0).astype(np.int8).flatten()\n",
    "\n",
    "# precision_score(target, logit_th)\n",
    "precision_score(df, df)"
   ]
  },
  {
   "cell_type": "code",
   "execution_count": null,
   "id": "6249eaacc8ff0df5",
   "metadata": {
    "ExecuteTime": {
     "end_time": "2024-07-28T19:48:42.848737Z",
     "start_time": "2024-07-28T19:48:23.044333Z"
    }
   },
   "outputs": [],
   "source": [
    "from tardis_em.utils.visualize_pc import show_image_list\n",
    "\n",
    "show_image_list(\n",
    "    gt,\n",
    "    num_cols=5,\n",
    "    dpi=250,\n",
    "    title_fontsize=0,\n",
    "    figsize=(50,50)\n",
    ")"
   ]
  },
  {
   "cell_type": "code",
   "execution_count": null,
   "id": "54c16cb5020fb5da",
   "metadata": {},
   "outputs": [],
   "source": [
    "from tardis_em.utils.visualize_pc import show_image_list\n",
    "\n",
    "show_image_list(\n",
    "    logits,\n",
    "    num_cols=5,\n",
    "    dpi=250,\n",
    "    title_fontsize=0,\n",
    "    figsize=(50,50)\n",
    ")"
   ]
  },
  {
   "cell_type": "code",
   "execution_count": null,
   "id": "7644d93bc21096e7",
   "metadata": {
    "ExecuteTime": {
     "start_time": "2024-07-28T20:12:25.348153Z"
    },
    "jupyter": {
     "is_executing": true
    }
   },
   "outputs": [],
   "source": [
    "from tardis_em.benchmarks.utils import benchmark_cnn\n",
    "\n",
    "benchmark_cnn(logits, gt)"
   ]
  }
 ],
 "metadata": {
  "kernelspec": {
   "display_name": "Python 3",
   "language": "python",
   "name": "python3"
  },
  "language_info": {
   "codemirror_mode": {
    "name": "ipython",
    "version": 3
   },
   "file_extension": ".py",
   "mimetype": "text/x-python",
   "name": "python",
   "nbconvert_exporter": "python",
   "pygments_lexer": "ipython3",
   "version": "3.11.9"
  }
 },
 "nbformat": 4,
 "nbformat_minor": 5
}
